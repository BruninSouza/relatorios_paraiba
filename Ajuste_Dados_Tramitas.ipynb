{
 "cells": [
  {
   "cell_type": "markdown",
   "metadata": {},
   "source": [
    "# 0.0 Ajuste dos dados\n",
    "\n",
    "Aqui foi feito ajustes para que a biblioteca pandas conseguisse lê corretamente os caracteres, além de excluir linhas duplicadas e colunas desnecessárias. Favor não mexer nesta parte, pois pode afetar o dataset."
   ]
  },
  {
   "cell_type": "code",
   "execution_count": null,
   "metadata": {},
   "outputs": [],
   "source": [
    "import pandas as pd\n",
    "\n",
    "# Carregar o arquivo CSV com a codificação 'latin1'\n",
    "df = pd.read_csv('Dados_Tramitas.csv', encoding='latin1')\n",
    "\n",
    "# Remover duplicatas\n",
    "df = df.drop_duplicates()\n",
    "\n",
    "# Salvar o DataFrame sem duplicatas\n",
    "df.to_csv('Dados_Tramitas.csv', index=False)\n",
    "\n"
   ]
  },
  {
   "cell_type": "code",
   "execution_count": null,
   "metadata": {},
   "outputs": [
    {
     "name": "stderr",
     "output_type": "stream",
     "text": [
      "C:\\Users\\bruns\\AppData\\Local\\Temp\\ipykernel_12376\\744801203.py:4: DtypeWarning: Columns (4) have mixed types. Specify dtype option on import or set low_memory=False.\n",
      "  df = pd.read_csv('NovoArquivo.csv')\n"
     ]
    }
   ],
   "source": [
    "# Carregar o arquivo CSV com a codificação 'latin1'\n",
    "df = pd.read_csv('Dados_Tramitas.csv')\n",
    "\n",
    "# Remover a última linha\n",
    "df = df[:-1]\n",
    "\n",
    "# Remover a última coluna\n",
    "df = df.iloc[:, :-1]\n",
    "\n",
    "# Remover duplicatas\n",
    "df = df.drop_duplicates()\n",
    "\n",
    "# Salvar diretamente no arquivo original, sobrescrevendo o conteúdo\n",
    "df.to_csv('Dados_Tramitas.csv', index=False)\n"
   ]
  }
 ],
 "metadata": {
  "kernelspec": {
   "display_name": "Python 3",
   "language": "python",
   "name": "python3"
  },
  "language_info": {
   "codemirror_mode": {
    "name": "ipython",
    "version": 3
   },
   "file_extension": ".py",
   "mimetype": "text/x-python",
   "name": "python",
   "nbconvert_exporter": "python",
   "pygments_lexer": "ipython3",
   "version": "3.12.4"
  }
 },
 "nbformat": 4,
 "nbformat_minor": 2
}
